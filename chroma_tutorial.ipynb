{
 "cells": [
  {
   "cell_type": "code",
   "execution_count": 2,
   "metadata": {},
   "outputs": [],
   "source": [
    "import polars as pl"
   ]
  },
  {
   "cell_type": "code",
   "execution_count": 5,
   "metadata": {},
   "outputs": [
    {
     "data": {
      "text/html": [
       "<div><style>\n",
       ".dataframe > thead > tr,\n",
       ".dataframe > tbody > tr {\n",
       "  text-align: right;\n",
       "  white-space: pre-wrap;\n",
       "}\n",
       "</style>\n",
       "<small>shape: (5, 5)</small><table border=\"1\" class=\"dataframe\"><thead><tr><th>index</th><th>Article</th><th>Date</th><th>Heading</th><th>NewsType</th></tr><tr><td>u32</td><td>str</td><td>str</td><td>str</td><td>str</td></tr></thead><tbody><tr><td>1</td><td>&quot;KARACHI: The Sindh government …</td><td>&quot;1/1/2015&quot;</td><td>&quot;sindh govt decides to cut publ…</td><td>&quot;business&quot;</td></tr><tr><td>2</td><td>&quot;HONG KONG: Asian markets start…</td><td>&quot;1/2/2015&quot;</td><td>&quot;asia stocks up in new year tra…</td><td>&quot;business&quot;</td></tr><tr><td>3</td><td>&quot;HONG KONG:  Hong Kong shares o…</td><td>&quot;1/5/2015&quot;</td><td>&quot;hong kong stocks open 0.66 per…</td><td>&quot;business&quot;</td></tr><tr><td>4</td><td>&quot;HONG KONG: Asian markets tumbl…</td><td>&quot;1/6/2015&quot;</td><td>&quot;asian stocks sink euro near ni…</td><td>&quot;business&quot;</td></tr><tr><td>5</td><td>&quot;NEW YORK: US oil prices Monday…</td><td>&quot;1/6/2015&quot;</td><td>&quot;us oil prices slip below 50 a …</td><td>&quot;business&quot;</td></tr></tbody></table></div>"
      ],
      "text/plain": [
       "shape: (5, 5)\n",
       "┌───────┬─────────────────────────────────┬──────────┬─────────────────────────────────┬──────────┐\n",
       "│ index ┆ Article                         ┆ Date     ┆ Heading                         ┆ NewsType │\n",
       "│ ---   ┆ ---                             ┆ ---      ┆ ---                             ┆ ---      │\n",
       "│ u32   ┆ str                             ┆ str      ┆ str                             ┆ str      │\n",
       "╞═══════╪═════════════════════════════════╪══════════╪═════════════════════════════════╪══════════╡\n",
       "│ 1     ┆ KARACHI: The Sindh government … ┆ 1/1/2015 ┆ sindh govt decides to cut publ… ┆ business │\n",
       "│ 2     ┆ HONG KONG: Asian markets start… ┆ 1/2/2015 ┆ asia stocks up in new year tra… ┆ business │\n",
       "│ 3     ┆ HONG KONG:  Hong Kong shares o… ┆ 1/5/2015 ┆ hong kong stocks open 0.66 per… ┆ business │\n",
       "│ 4     ┆ HONG KONG: Asian markets tumbl… ┆ 1/6/2015 ┆ asian stocks sink euro near ni… ┆ business │\n",
       "│ 5     ┆ NEW YORK: US oil prices Monday… ┆ 1/6/2015 ┆ us oil prices slip below 50 a … ┆ business │\n",
       "└───────┴─────────────────────────────────┴──────────┴─────────────────────────────────┴──────────┘"
      ]
     },
     "execution_count": 5,
     "metadata": {},
     "output_type": "execute_result"
    }
   ],
   "source": [
    "articles = pl.read_csv('Articles.csv',encoding='ISO-8859-1').with_row_index(offset=1)\n",
    "articles.head()"
   ]
  },
  {
   "cell_type": "code",
   "execution_count": null,
   "metadata": {},
   "outputs": [],
   "source": [
    "key = 'Enter your api key here'\n"
   ]
  },
  {
   "cell_type": "code",
   "execution_count": 19,
   "metadata": {},
   "outputs": [
    {
     "name": "stderr",
     "output_type": "stream",
     "text": [
      "c:\\Nidheesh\\projects\\Chromadb\\venv\\Lib\\site-packages\\tqdm\\auto.py:21: TqdmWarning: IProgress not found. Please update jupyter and ipywidgets. See https://ipywidgets.readthedocs.io/en/stable/user_install.html\n",
      "  from .autonotebook import tqdm as notebook_tqdm\n"
     ]
    }
   ],
   "source": [
    "# import\n",
    "import google.generativeai as genai\n",
    "import chromadb.utils.embedding_functions as embedding_functions\n",
    "\n",
    "google_ef  = embedding_functions.GoogleGenerativeAiEmbeddingFunction(api_key=key)\n",
    "\n",
    "\n"
   ]
  },
  {
   "cell_type": "code",
   "execution_count": 9,
   "metadata": {},
   "outputs": [
    {
     "data": {
      "text/plain": [
       "2692"
      ]
     },
     "execution_count": 9,
     "metadata": {},
     "output_type": "execute_result"
    }
   ],
   "source": [
    "len(articles)"
   ]
  },
  {
   "cell_type": "code",
   "execution_count": 10,
   "metadata": {},
   "outputs": [],
   "source": [
    "articles = articles[:50]"
   ]
  },
  {
   "cell_type": "code",
   "execution_count": 11,
   "metadata": {},
   "outputs": [
    {
     "data": {
      "text/html": [
       "<div><style>\n",
       ".dataframe > thead > tr,\n",
       ".dataframe > tbody > tr {\n",
       "  text-align: right;\n",
       "  white-space: pre-wrap;\n",
       "}\n",
       "</style>\n",
       "<small>shape: (50, 5)</small><table border=\"1\" class=\"dataframe\"><thead><tr><th>index</th><th>Article</th><th>Date</th><th>Heading</th><th>NewsType</th></tr><tr><td>u32</td><td>str</td><td>str</td><td>str</td><td>str</td></tr></thead><tbody><tr><td>1</td><td>&quot;KARACHI: The Sindh government …</td><td>&quot;1/1/2015&quot;</td><td>&quot;sindh govt decides to cut publ…</td><td>&quot;business&quot;</td></tr><tr><td>2</td><td>&quot;HONG KONG: Asian markets start…</td><td>&quot;1/2/2015&quot;</td><td>&quot;asia stocks up in new year tra…</td><td>&quot;business&quot;</td></tr><tr><td>3</td><td>&quot;HONG KONG:  Hong Kong shares o…</td><td>&quot;1/5/2015&quot;</td><td>&quot;hong kong stocks open 0.66 per…</td><td>&quot;business&quot;</td></tr><tr><td>4</td><td>&quot;HONG KONG: Asian markets tumbl…</td><td>&quot;1/6/2015&quot;</td><td>&quot;asian stocks sink euro near ni…</td><td>&quot;business&quot;</td></tr><tr><td>5</td><td>&quot;NEW YORK: US oil prices Monday…</td><td>&quot;1/6/2015&quot;</td><td>&quot;us oil prices slip below 50 a …</td><td>&quot;business&quot;</td></tr><tr><td>&hellip;</td><td>&hellip;</td><td>&hellip;</td><td>&hellip;</td><td>&hellip;</td></tr><tr><td>46</td><td>&quot;Karachi: Microsoft Devices Pak…</td><td>&quot;2/12/2015&quot;</td><td>&quot;nokia 215 dual sim launched in…</td><td>&quot;business&quot;</td></tr><tr><td>47</td><td>&quot;ISLAMABAD: Federal Finance Min…</td><td>&quot;2/12/2015&quot;</td><td>&quot;cnic number now tax number onl…</td><td>&quot;business&quot;</td></tr><tr><td>48</td><td>&quot;ISLAMABAD: Government has put …</td><td>&quot;2/12/2015&quot;</td><td>&quot;govt imposes new taxes of rs4 …</td><td>&quot;business&quot;</td></tr><tr><td>49</td><td>&quot;Singapore: Oil prices edged hi…</td><td>&quot;2/12/2015&quot;</td><td>&quot;oil prices rise in asian trad&quot;</td><td>&quot;business&quot;</td></tr><tr><td>50</td><td>&quot;London: World oil prices rose …</td><td>&quot;2/13/2015&quot;</td><td>&quot;oil prices extend gai&quot;</td><td>&quot;business&quot;</td></tr></tbody></table></div>"
      ],
      "text/plain": [
       "shape: (50, 5)\n",
       "┌───────┬─────────────────────────────────┬───────────┬─────────────────────────────────┬──────────┐\n",
       "│ index ┆ Article                         ┆ Date      ┆ Heading                         ┆ NewsType │\n",
       "│ ---   ┆ ---                             ┆ ---       ┆ ---                             ┆ ---      │\n",
       "│ u32   ┆ str                             ┆ str       ┆ str                             ┆ str      │\n",
       "╞═══════╪═════════════════════════════════╪═══════════╪═════════════════════════════════╪══════════╡\n",
       "│ 1     ┆ KARACHI: The Sindh government … ┆ 1/1/2015  ┆ sindh govt decides to cut publ… ┆ business │\n",
       "│ 2     ┆ HONG KONG: Asian markets start… ┆ 1/2/2015  ┆ asia stocks up in new year tra… ┆ business │\n",
       "│ 3     ┆ HONG KONG:  Hong Kong shares o… ┆ 1/5/2015  ┆ hong kong stocks open 0.66 per… ┆ business │\n",
       "│ 4     ┆ HONG KONG: Asian markets tumbl… ┆ 1/6/2015  ┆ asian stocks sink euro near ni… ┆ business │\n",
       "│ 5     ┆ NEW YORK: US oil prices Monday… ┆ 1/6/2015  ┆ us oil prices slip below 50 a … ┆ business │\n",
       "│ …     ┆ …                               ┆ …         ┆ …                               ┆ …        │\n",
       "│ 46    ┆ Karachi: Microsoft Devices Pak… ┆ 2/12/2015 ┆ nokia 215 dual sim launched in… ┆ business │\n",
       "│ 47    ┆ ISLAMABAD: Federal Finance Min… ┆ 2/12/2015 ┆ cnic number now tax number onl… ┆ business │\n",
       "│ 48    ┆ ISLAMABAD: Government has put … ┆ 2/12/2015 ┆ govt imposes new taxes of rs4 … ┆ business │\n",
       "│ 49    ┆ Singapore: Oil prices edged hi… ┆ 2/12/2015 ┆ oil prices rise in asian trad   ┆ business │\n",
       "│ 50    ┆ London: World oil prices rose … ┆ 2/13/2015 ┆ oil prices extend gai           ┆ business │\n",
       "└───────┴─────────────────────────────────┴───────────┴─────────────────────────────────┴──────────┘"
      ]
     },
     "execution_count": 11,
     "metadata": {},
     "output_type": "execute_result"
    }
   ],
   "source": [
    "articles"
   ]
  },
  {
   "cell_type": "code",
   "execution_count": 12,
   "metadata": {},
   "outputs": [
    {
     "data": {
      "text/plain": [
       "'KARACHI: The Sindh government has decided to bring down public transport fares by 7 per cent due to massive reduction in petroleum product prices by the federal government, Geo News reported.Sources said reduction in fares will be applicable on public transport, rickshaw, taxi and other means of traveling.Meanwhile, Karachi Transport Ittehad (KTI) has refused to abide by the government decision.KTI President Irshad Bukhari said the commuters are charged the lowest fares in Karachi as compare to other parts of the country, adding that 80pc vehicles run on Compressed Natural Gas (CNG). Bukhari said Karachi transporters will cut fares when decrease in CNG prices will be made.                        \\n\\n\\n\\n\\n\\n\\n\\n\\n\\n\\n'"
      ]
     },
     "execution_count": 12,
     "metadata": {},
     "output_type": "execute_result"
    }
   ],
   "source": [
    "articles['Article'][0]"
   ]
  },
  {
   "cell_type": "code",
   "execution_count": 20,
   "metadata": {},
   "outputs": [
    {
     "data": {
      "text/plain": [
       "[array([ 1.71423126e-02, -3.94452130e-03, -5.92572354e-02, -1.91301480e-02,\n",
       "         6.04176037e-02,  2.05950197e-02, -7.89729040e-03, -1.15870144e-02,\n",
       "         1.31540122e-02,  4.60306853e-02, -5.28240651e-02,  2.82996651e-02,\n",
       "        -8.96718912e-03, -1.69218760e-02, -2.16555949e-02, -3.11834849e-02,\n",
       "        -5.09017520e-03, -1.31711708e-02,  1.88055057e-02, -5.26753888e-02,\n",
       "         6.33310713e-03, -6.70285942e-03,  1.20005058e-02, -3.09579279e-02,\n",
       "         1.11662038e-02, -1.29954219e-02,  5.03593264e-03, -2.54810713e-02,\n",
       "        -4.47296798e-02,  5.03475033e-02, -6.57069236e-02,  5.39682247e-02,\n",
       "        -5.67775816e-02, -4.81379069e-02, -6.46691546e-02, -1.66921988e-02,\n",
       "         6.28347090e-03, -4.44132984e-02, -1.10723171e-02,  4.29481380e-02,\n",
       "         5.34192612e-03,  1.87289342e-02, -1.96777424e-03, -1.39910514e-02,\n",
       "         2.24837363e-02,  3.96227557e-03,  2.95070391e-02, -3.61249670e-02,\n",
       "         3.66496071e-02, -5.86001836e-02,  3.29588018e-02, -2.59141438e-02,\n",
       "         6.34309277e-02, -1.20252427e-02, -2.81099156e-02, -3.67554165e-02,\n",
       "         2.47146073e-03, -8.10650811e-02, -1.98979788e-02,  1.72088258e-02,\n",
       "         1.91281457e-02,  9.45337582e-03, -1.57692470e-02, -5.33461347e-02,\n",
       "        -4.92697805e-02, -2.92357020e-02, -3.15704122e-02,  2.92588901e-02,\n",
       "         5.97850569e-02, -1.57832112e-02,  6.41276315e-02,  4.01869081e-02,\n",
       "         5.49983531e-02,  1.26055581e-02, -5.81556931e-02, -7.34311119e-02,\n",
       "         4.73664980e-03,  3.33008054e-03,  5.65522648e-02,  2.31475402e-02,\n",
       "        -8.67184624e-03, -6.02106936e-02, -5.16011454e-02, -2.63965223e-02,\n",
       "        -2.38275677e-02,  9.35785472e-03, -3.99498455e-02,  3.86243947e-02,\n",
       "         3.10611650e-02, -5.77115081e-03,  1.76731776e-02, -6.16839044e-02,\n",
       "        -5.75852096e-02, -6.05697855e-02, -2.06298195e-02,  8.55675787e-02,\n",
       "         2.81052813e-02, -1.75234396e-02,  3.18540819e-02, -2.13418026e-02,\n",
       "         7.55463168e-03, -3.73621322e-02, -3.69408615e-02,  8.67607351e-03,\n",
       "         4.37390953e-02,  4.29075770e-02,  5.08735627e-02,  4.27398011e-02,\n",
       "        -1.66660249e-02,  1.72553025e-02, -6.65697902e-02, -3.79149877e-02,\n",
       "        -2.61242241e-02, -2.22591478e-02,  2.58330461e-02, -1.83709003e-02,\n",
       "         6.99739764e-03,  6.12518527e-02,  1.94687508e-02,  2.08856892e-02,\n",
       "         5.53888232e-02,  4.04089577e-02,  9.87602398e-02,  6.24285685e-03,\n",
       "        -1.29134895e-03,  1.18010491e-03, -2.82211807e-02,  2.67471429e-02,\n",
       "         4.64423075e-02,  8.23014602e-02, -7.78590608e-03, -3.45523097e-02,\n",
       "         1.19207874e-02, -4.18530442e-02,  4.76454571e-02, -9.60141048e-03,\n",
       "        -4.95183421e-03,  5.37665375e-02,  7.89709203e-03,  1.55997686e-02,\n",
       "        -3.50113362e-02,  1.46122519e-02,  1.06414519e-02,  1.11064473e-02,\n",
       "        -2.75896639e-02,  1.77154299e-02, -2.22782660e-02, -2.35771220e-02,\n",
       "         2.33063884e-02, -2.23566778e-02, -5.16809663e-03,  4.75261584e-02,\n",
       "        -4.64981236e-02, -2.69267894e-03,  7.45792836e-02,  2.11908109e-02,\n",
       "         1.35026164e-02,  1.54345781e-02, -1.05320653e-02,  1.70880761e-02,\n",
       "        -1.01891421e-02,  7.83870090e-03, -5.27774431e-02,  1.07593127e-02,\n",
       "         8.42949189e-03, -5.61562069e-02,  3.03185433e-02,  1.27425287e-02,\n",
       "        -2.11938918e-02, -3.09875002e-03,  1.20652756e-02,  4.74286638e-03,\n",
       "        -7.53029063e-03, -6.40836060e-02, -1.55025953e-02, -4.43760045e-02,\n",
       "         2.73150504e-02, -2.68318653e-02, -4.30255802e-03, -9.36661381e-03,\n",
       "        -3.51001956e-02, -8.61354992e-02, -2.02056281e-02,  1.68308616e-02,\n",
       "         5.87110082e-03, -3.00066005e-02,  5.44704199e-02, -4.97374870e-02,\n",
       "        -6.90878257e-02,  2.81551834e-02, -8.00809171e-03,  5.42090200e-02,\n",
       "        -4.14870679e-02,  1.25865610e-02, -4.49976474e-02, -2.59226914e-02,\n",
       "         2.63734628e-03, -6.42352598e-03,  1.49863604e-02, -3.61891016e-02,\n",
       "        -4.57513258e-02,  2.83252560e-02, -5.54878970e-05, -4.68550203e-03,\n",
       "         1.25506101e-03, -1.14495438e-02,  4.06179279e-02, -5.25874384e-02,\n",
       "        -4.19590846e-02,  3.55094811e-03, -4.63659279e-02,  1.53865078e-02,\n",
       "        -2.28842534e-03,  6.37215674e-02,  8.44989866e-02, -1.83368917e-03,\n",
       "         1.17608961e-02,  3.03031709e-02,  2.17829943e-02,  2.65831780e-02,\n",
       "         3.36865932e-02,  8.36692471e-03,  5.76769710e-02,  2.60933153e-02,\n",
       "         6.93861814e-03,  4.59871255e-02,  3.31993997e-02,  3.78218405e-02,\n",
       "         1.00203520e-02, -5.08777723e-02, -2.26097796e-02,  8.24061483e-02,\n",
       "         3.88535671e-02, -2.53813472e-02,  3.69967781e-02,  4.92556691e-02,\n",
       "         3.20705585e-02,  4.53550629e-02,  1.59320626e-02,  5.15743122e-02,\n",
       "        -6.27973005e-02,  4.92491536e-02,  5.05684651e-02, -1.05359918e-02,\n",
       "        -3.98941450e-02, -6.42323196e-02, -1.75589453e-02,  2.15767156e-02,\n",
       "         4.00820449e-02, -6.55833539e-03, -1.55124915e-04, -4.75875437e-02,\n",
       "         6.08434379e-02,  2.90322639e-02, -3.80053520e-02, -1.97654441e-02,\n",
       "        -6.21502958e-02,  2.92072445e-03, -1.50559610e-03,  1.55571522e-02,\n",
       "         3.66014279e-02, -3.50135006e-02, -4.84930322e-04,  7.04437727e-03,\n",
       "        -2.78090797e-02,  3.32143605e-02,  5.88544179e-03, -2.81286091e-02,\n",
       "         1.82326343e-02,  3.95731963e-02, -2.18357537e-02,  2.13818136e-03,\n",
       "        -1.28424438e-02, -1.12353200e-02, -2.10701954e-03,  2.21733423e-03,\n",
       "        -8.66173394e-03,  2.73090112e-03, -8.93915910e-03,  5.01935603e-03,\n",
       "        -2.34568771e-02, -6.14321306e-02, -1.47621026e-02, -2.82770973e-02,\n",
       "         1.24087324e-02,  1.24512715e-02, -5.06779179e-02,  1.12500275e-02,\n",
       "         2.69194879e-02, -5.53006977e-02, -4.58952859e-02,  7.32141174e-03,\n",
       "        -3.63868512e-02, -4.18707319e-02, -7.19579216e-03,  4.90473211e-02,\n",
       "        -1.31279444e-02,  2.18557511e-02,  1.44953271e-02,  3.80113274e-02,\n",
       "        -3.78561988e-02, -5.43372296e-02, -1.62496674e-03, -3.98656540e-02,\n",
       "        -1.35942306e-02,  3.06620318e-02, -3.28913070e-02, -4.25749905e-02,\n",
       "         2.85226107e-02,  7.31215300e-03, -7.09111756e-03,  1.40050864e-02,\n",
       "        -7.72727951e-02, -2.33602598e-02,  1.72937303e-04,  4.89091016e-02,\n",
       "        -3.07123605e-02,  1.60046872e-02, -1.98559090e-02,  6.30259812e-02,\n",
       "        -3.52753140e-02,  3.65772806e-02, -2.15689559e-02,  8.94504972e-03,\n",
       "        -9.42650996e-03,  2.23175362e-02, -4.37794290e-02,  2.49672718e-02,\n",
       "        -2.90648136e-02, -4.32353979e-03, -1.18046096e-02, -5.91746755e-02,\n",
       "        -2.90108901e-02,  2.99751689e-03,  3.55993100e-02,  2.12170612e-02,\n",
       "        -3.10431942e-02, -4.03168947e-02, -4.35700233e-04,  1.25855058e-02,\n",
       "         1.68803576e-02,  7.86395837e-03, -4.56812093e-03, -1.62306763e-02,\n",
       "        -4.94328211e-04, -2.11594403e-02,  9.26811900e-03, -4.33978364e-02,\n",
       "         6.00320660e-02,  1.38282590e-02,  1.75079610e-02,  8.21942613e-02,\n",
       "        -5.26317954e-02, -1.44642023e-02, -1.17488978e-02, -1.45466560e-02,\n",
       "         5.07641882e-02, -2.77947560e-02,  4.11988534e-02, -2.21712273e-02,\n",
       "        -8.64030421e-02,  4.59110662e-02,  5.56511199e-03, -4.34907489e-02,\n",
       "         3.24231237e-02, -9.99823213e-03, -3.10771130e-02,  2.55224593e-02,\n",
       "        -2.03877371e-02,  2.91750133e-02,  3.99311297e-02, -3.16469856e-02,\n",
       "         4.18041945e-02, -5.49816899e-02,  1.04507366e-02, -5.36200181e-02,\n",
       "         1.55092031e-02, -7.25175673e-03,  1.14652850e-02, -2.65659466e-02,\n",
       "        -3.72897238e-02, -1.14618894e-02,  6.74124435e-02,  1.67105217e-02,\n",
       "        -3.53993624e-02, -3.75205744e-03,  1.16075007e-02,  7.48323351e-02,\n",
       "         3.02648470e-02,  2.05096751e-02, -2.50326619e-02,  2.32316013e-02,\n",
       "         1.21315774e-02, -9.75940842e-03,  9.46188346e-03,  4.14043441e-02,\n",
       "         2.27517751e-03, -3.63183208e-02,  6.69786334e-03, -1.32499579e-02,\n",
       "         5.87541843e-03,  9.14763007e-03, -2.29772869e-02, -6.84615001e-02,\n",
       "        -1.93194468e-02, -1.51985390e-02, -1.72494166e-02, -4.85395379e-02,\n",
       "        -3.97879183e-02,  7.48296529e-02,  2.31078826e-02,  3.67238708e-02,\n",
       "         2.79951282e-02, -6.08372651e-02, -6.75381571e-02, -3.67391929e-02,\n",
       "         3.21992226e-02,  4.27690480e-04, -2.81523317e-02,  9.09395050e-03,\n",
       "        -5.10423779e-02,  1.87729076e-02, -9.64812469e-03, -5.35403825e-02,\n",
       "        -6.05859570e-02, -4.63070758e-02,  5.51730432e-02,  1.55361823e-03,\n",
       "         2.18293467e-03,  4.56193350e-02, -1.09355031e-02,  1.22264111e-02,\n",
       "        -1.97689817e-03,  1.40789952e-02,  1.60346907e-02, -5.02567030e-02,\n",
       "         8.67019407e-05,  3.65433730e-02, -5.47552668e-03, -6.06927797e-02,\n",
       "         2.22221613e-02, -2.57273484e-02, -4.47956659e-02,  3.76356095e-02,\n",
       "        -1.14919171e-02, -3.06482017e-02, -2.41596470e-04, -2.30191629e-02,\n",
       "         3.99719253e-02, -1.17440969e-02,  1.35232657e-02, -3.42592448e-02,\n",
       "        -4.38492447e-02, -3.02435886e-02, -2.08474305e-02, -4.66400608e-02,\n",
       "        -1.22618303e-02,  7.81760663e-02,  4.74396767e-03,  8.09343252e-03,\n",
       "        -4.18672189e-02,  1.06169637e-02, -1.17581636e-02, -5.75196780e-02,\n",
       "        -1.60290096e-02, -3.32082100e-02,  3.49957645e-02, -5.66247068e-02,\n",
       "         4.78691682e-02,  3.66095267e-02,  6.89944029e-02,  1.54846422e-02,\n",
       "         2.09131911e-02, -2.33222470e-02, -5.26558347e-02, -3.52447033e-02,\n",
       "        -2.44009625e-02, -1.68242566e-02, -5.74976057e-02, -4.67849560e-02,\n",
       "        -8.61437991e-02,  1.31757371e-02,  2.22992077e-02,  1.46310367e-02,\n",
       "         5.03609981e-03, -9.82073881e-03,  3.09222955e-02,  1.37194879e-02,\n",
       "         8.74914136e-03,  7.05524832e-02, -4.46238369e-02, -1.59093030e-02,\n",
       "         1.53698120e-02, -9.22319386e-03,  1.36036472e-02, -9.01642663e-04,\n",
       "        -6.39932975e-02,  1.81347895e-02,  6.72209412e-02,  5.86573742e-02,\n",
       "         5.55351283e-03,  4.80215885e-02,  1.07994089e-02,  2.27002557e-02,\n",
       "         1.32793630e-05, -7.81443641e-02,  1.95059478e-02,  5.23789078e-02,\n",
       "        -5.18601201e-02,  1.05270687e-02, -6.08638721e-03,  1.05138365e-02,\n",
       "        -9.82647762e-03,  1.02001354e-02,  2.12534145e-02, -1.93743472e-04,\n",
       "        -1.03297411e-02, -2.30604708e-02, -1.32332584e-02,  7.35749118e-03,\n",
       "         3.59099433e-02,  5.50203696e-02, -1.25694811e-01, -1.58470217e-02,\n",
       "         3.03728357e-02, -1.82408132e-02,  2.24766862e-02,  1.30684651e-03,\n",
       "        -4.46490310e-02,  1.13209272e-02, -4.53510368e-03,  8.32274929e-02,\n",
       "        -5.74617945e-02, -1.82341952e-02,  3.62242833e-02,  3.51877511e-02,\n",
       "         9.54098906e-03,  1.88446455e-02,  1.75426621e-02, -2.12679943e-03,\n",
       "        -1.08652720e-02, -2.57989299e-02,  4.71162163e-02,  6.70177909e-03,\n",
       "         4.64243395e-03, -4.44458425e-02, -1.36171225e-02, -8.50163102e-02,\n",
       "         2.03340128e-02,  7.34102074e-03,  1.70719232e-02,  6.53932169e-02,\n",
       "         1.26000373e-02, -2.88925432e-02,  1.54939601e-02,  1.63111882e-03,\n",
       "        -2.98599582e-02, -5.49579877e-03,  3.41520570e-02, -1.14499396e-02,\n",
       "         3.87187325e-03, -2.67426092e-02,  1.45933582e-02, -2.55070403e-02,\n",
       "         6.10501952e-02,  5.26151285e-02, -7.12603033e-02, -1.87669583e-02,\n",
       "         5.76710701e-02, -4.13540080e-02, -1.13405082e-02,  3.13009322e-02,\n",
       "         1.75467215e-03, -4.39159572e-03,  5.52773327e-02, -3.48517634e-02,\n",
       "        -4.67376225e-02, -2.63255602e-03,  5.06468350e-03, -2.00589118e-03,\n",
       "         3.83165739e-02, -4.95330617e-02,  2.17736848e-02,  3.98950689e-02,\n",
       "        -2.05240007e-02, -1.23948129e-02,  6.49043173e-02,  2.93075610e-02,\n",
       "         2.37263944e-02,  1.42694293e-02, -5.64194955e-02,  6.16871007e-02,\n",
       "        -4.58258167e-02, -4.06201445e-02, -1.05363643e-02, -1.95304118e-02,\n",
       "         6.01012725e-04,  5.76972477e-02, -2.66280528e-02, -3.62694785e-02,\n",
       "         3.51376529e-03, -2.63788775e-02,  5.34776002e-02, -9.37653519e-03,\n",
       "         3.51122804e-02,  1.32776704e-02,  5.47322491e-03, -4.58164476e-02,\n",
       "        -4.06313501e-02,  3.35058793e-02, -6.52782023e-02, -2.70670801e-02,\n",
       "        -6.22530282e-02,  2.55348105e-02, -4.58320007e-02, -3.62824425e-02,\n",
       "         5.56397587e-02, -7.24214036e-03, -1.62112378e-02, -1.33467633e-02,\n",
       "         4.58130613e-03, -1.01006916e-02, -6.81139622e-03,  1.97968911e-02,\n",
       "         1.08876303e-02, -1.91760398e-02, -2.41714567e-02, -1.44965770e-02,\n",
       "         8.03038254e-02,  1.90973550e-03,  6.16333559e-02,  1.27654220e-03,\n",
       "        -2.10120771e-02,  7.09819570e-02, -1.12500973e-02, -2.52252016e-02,\n",
       "        -1.28193069e-02, -4.73657325e-02, -5.43030072e-03,  1.55404089e-02,\n",
       "        -1.27703890e-01, -3.23294546e-03, -2.82431971e-02, -1.80785861e-02,\n",
       "        -3.60257812e-02,  5.51372208e-02,  3.76525172e-03, -1.13369569e-01,\n",
       "        -7.38569871e-02, -3.44712064e-02, -5.45207858e-02, -2.13552490e-02,\n",
       "         4.85374853e-02, -3.03899553e-02, -1.41748218e-02, -4.79989611e-02,\n",
       "        -2.93570556e-05,  4.07572556e-03,  3.94791327e-02, -2.22883299e-02,\n",
       "         1.26758711e-02,  5.59355738e-03,  5.09337708e-03,  2.06423383e-02,\n",
       "        -8.11400730e-03, -1.05673578e-02, -5.27430400e-02, -8.01596418e-02,\n",
       "        -4.99194190e-02,  2.99060494e-02, -9.44605991e-02, -1.62899948e-03,\n",
       "        -1.90607589e-02, -2.10987870e-02,  3.51062827e-02,  2.70119123e-02,\n",
       "        -2.15483941e-02,  2.45608315e-02, -5.08504659e-02,  8.73130932e-03,\n",
       "         2.60889586e-02,  1.67071242e-02, -3.68382819e-02, -1.70856509e-02,\n",
       "         1.60662755e-02,  6.50791079e-02,  1.09408721e-02, -3.14358510e-02,\n",
       "        -9.21527576e-03, -6.38729557e-02,  7.65161449e-03,  1.04021770e-03,\n",
       "        -4.93979938e-02, -2.65418016e-03,  4.33351360e-02,  3.02119292e-02,\n",
       "        -2.57465672e-02, -1.11545742e-04,  2.31588650e-02, -5.69892395e-03,\n",
       "        -8.81562158e-02, -6.13253526e-02,  4.68924455e-03,  5.70442080e-02,\n",
       "        -2.46440563e-02,  1.11649139e-02,  5.53146638e-02,  3.14114802e-02,\n",
       "         4.53698002e-02,  2.23248806e-02,  6.30853772e-02, -4.31776382e-02,\n",
       "        -3.72427069e-02,  6.94249198e-02,  1.98459011e-02, -5.12050241e-02,\n",
       "        -2.61213891e-02,  1.21764111e-04, -2.27874201e-02,  7.24086463e-02,\n",
       "         6.92894608e-02,  8.65458231e-03, -1.24339052e-02, -2.31039450e-02,\n",
       "        -1.78353693e-02,  4.02032286e-02, -5.94617836e-02,  3.69400606e-02,\n",
       "        -2.44544055e-02, -2.87849689e-03,  2.96220500e-02, -2.77969390e-02,\n",
       "        -7.13589042e-03,  2.41744779e-02,  7.91929662e-03,  1.25060594e-02,\n",
       "         1.21182101e-02,  3.04273386e-02,  1.37353539e-02, -7.20066726e-02,\n",
       "        -8.90667178e-03, -1.23720169e-02, -1.14984661e-02,  7.95534998e-02,\n",
       "         6.20358856e-03, -4.33934629e-02,  2.48497035e-02, -2.18032300e-02,\n",
       "         3.75372730e-02, -6.89874515e-02, -3.04982662e-02,  9.86464694e-03,\n",
       "         8.07422306e-03,  3.66922468e-02,  3.38056620e-04,  2.69354824e-02,\n",
       "        -1.85465626e-02,  8.70458223e-03,  1.38405599e-02,  1.24603678e-02,\n",
       "        -4.79776412e-02,  5.02973646e-02,  5.27222715e-02, -6.77060755e-03,\n",
       "         4.22560088e-02,  2.60685049e-02, -3.32219340e-02, -3.19877937e-02],\n",
       "       dtype=float32)]"
      ]
     },
     "execution_count": 20,
     "metadata": {},
     "output_type": "execute_result"
    }
   ],
   "source": [
    "google_ef([articles['Article'][0]])"
   ]
  },
  {
   "cell_type": "code",
   "execution_count": 21,
   "metadata": {},
   "outputs": [],
   "source": [
    "import chromadb\n",
    "chroma_client = chromadb.Client()"
   ]
  },
  {
   "cell_type": "code",
   "execution_count": 22,
   "metadata": {},
   "outputs": [],
   "source": [
    "collection = chroma_client.get_or_create_collection(name='Articles')"
   ]
  },
  {
   "cell_type": "code",
   "execution_count": 23,
   "metadata": {},
   "outputs": [],
   "source": [
    "vector = google_ef([articles['Article'][0]])"
   ]
  },
  {
   "cell_type": "code",
   "execution_count": 24,
   "metadata": {},
   "outputs": [],
   "source": [
    "collection.add(\n",
    "    documents=[articles['Article'][0]],\n",
    "    ids=['id1'],\n",
    "    embeddings=vector\n",
    ")"
   ]
  },
  {
   "cell_type": "code",
   "execution_count": 25,
   "metadata": {},
   "outputs": [
    {
     "data": {
      "text/plain": [
       "'KARACHI: The Sindh government has decided to bring down public transport fares by 7 per cent due to massive reduction in petroleum product prices by the federal government, Geo News reported.Sources said reduction in fares will be applicable on public transport, rickshaw, taxi and other means of traveling.Meanwhile, Karachi Transport Ittehad (KTI) has refused to abide by the government decision.KTI President Irshad Bukhari said the commuters are charged the lowest fares in Karachi as compare to other parts of the country, adding that 80pc vehicles run on Compressed Natural Gas (CNG). Bukhari said Karachi transporters will cut fares when decrease in CNG prices will be made.                        \\n\\n\\n\\n\\n\\n\\n\\n\\n\\n\\n'"
      ]
     },
     "execution_count": 25,
     "metadata": {},
     "output_type": "execute_result"
    }
   ],
   "source": [
    "articles['Article'][0]"
   ]
  },
  {
   "cell_type": "code",
   "execution_count": 27,
   "metadata": {},
   "outputs": [],
   "source": [
    "query = 'public transport fares by 7 per cent'\n",
    "query_embedding = google_ef([query])"
   ]
  },
  {
   "cell_type": "code",
   "execution_count": 28,
   "metadata": {},
   "outputs": [
    {
     "data": {
      "text/plain": [
       "{'ids': [['id1']],\n",
       " 'embeddings': None,\n",
       " 'documents': [['KARACHI: The Sindh government has decided to bring down public transport fares by 7 per cent due to massive reduction in petroleum product prices by the federal government, Geo News reported.Sources said reduction in fares will be applicable on public transport, rickshaw, taxi and other means of traveling.Meanwhile, Karachi Transport Ittehad (KTI) has refused to abide by the government decision.KTI President Irshad Bukhari said the commuters are charged the lowest fares in Karachi as compare to other parts of the country, adding that 80pc vehicles run on Compressed Natural Gas (CNG). Bukhari said Karachi transporters will cut fares when decrease in CNG prices will be made.                        \\n\\n\\n\\n\\n\\n\\n\\n\\n\\n\\n']],\n",
       " 'uris': None,\n",
       " 'data': None,\n",
       " 'metadatas': [[None]],\n",
       " 'distances': [[0.39042821526527405]],\n",
       " 'included': [<IncludeEnum.distances: 'distances'>,\n",
       "  <IncludeEnum.documents: 'documents'>,\n",
       "  <IncludeEnum.metadatas: 'metadatas'>]}"
      ]
     },
     "execution_count": 28,
     "metadata": {},
     "output_type": "execute_result"
    }
   ],
   "source": [
    "collection.query(\n",
    "    query_embeddings=query_embedding,\n",
    "    n_results=1\n",
    ")"
   ]
  },
  {
   "cell_type": "code",
   "execution_count": 29,
   "metadata": {},
   "outputs": [
    {
     "data": {
      "text/html": [
       "<div><style>\n",
       ".dataframe > thead > tr,\n",
       ".dataframe > tbody > tr {\n",
       "  text-align: right;\n",
       "  white-space: pre-wrap;\n",
       "}\n",
       "</style>\n",
       "<small>shape: (50, 5)</small><table border=\"1\" class=\"dataframe\"><thead><tr><th>index</th><th>Article</th><th>Date</th><th>Heading</th><th>NewsType</th></tr><tr><td>u32</td><td>str</td><td>str</td><td>str</td><td>str</td></tr></thead><tbody><tr><td>1</td><td>&quot;KARACHI: The Sindh government …</td><td>&quot;1/1/2015&quot;</td><td>&quot;sindh govt decides to cut publ…</td><td>&quot;business&quot;</td></tr><tr><td>2</td><td>&quot;HONG KONG: Asian markets start…</td><td>&quot;1/2/2015&quot;</td><td>&quot;asia stocks up in new year tra…</td><td>&quot;business&quot;</td></tr><tr><td>3</td><td>&quot;HONG KONG:  Hong Kong shares o…</td><td>&quot;1/5/2015&quot;</td><td>&quot;hong kong stocks open 0.66 per…</td><td>&quot;business&quot;</td></tr><tr><td>4</td><td>&quot;HONG KONG: Asian markets tumbl…</td><td>&quot;1/6/2015&quot;</td><td>&quot;asian stocks sink euro near ni…</td><td>&quot;business&quot;</td></tr><tr><td>5</td><td>&quot;NEW YORK: US oil prices Monday…</td><td>&quot;1/6/2015&quot;</td><td>&quot;us oil prices slip below 50 a …</td><td>&quot;business&quot;</td></tr><tr><td>&hellip;</td><td>&hellip;</td><td>&hellip;</td><td>&hellip;</td><td>&hellip;</td></tr><tr><td>46</td><td>&quot;Karachi: Microsoft Devices Pak…</td><td>&quot;2/12/2015&quot;</td><td>&quot;nokia 215 dual sim launched in…</td><td>&quot;business&quot;</td></tr><tr><td>47</td><td>&quot;ISLAMABAD: Federal Finance Min…</td><td>&quot;2/12/2015&quot;</td><td>&quot;cnic number now tax number onl…</td><td>&quot;business&quot;</td></tr><tr><td>48</td><td>&quot;ISLAMABAD: Government has put …</td><td>&quot;2/12/2015&quot;</td><td>&quot;govt imposes new taxes of rs4 …</td><td>&quot;business&quot;</td></tr><tr><td>49</td><td>&quot;Singapore: Oil prices edged hi…</td><td>&quot;2/12/2015&quot;</td><td>&quot;oil prices rise in asian trad&quot;</td><td>&quot;business&quot;</td></tr><tr><td>50</td><td>&quot;London: World oil prices rose …</td><td>&quot;2/13/2015&quot;</td><td>&quot;oil prices extend gai&quot;</td><td>&quot;business&quot;</td></tr></tbody></table></div>"
      ],
      "text/plain": [
       "shape: (50, 5)\n",
       "┌───────┬─────────────────────────────────┬───────────┬─────────────────────────────────┬──────────┐\n",
       "│ index ┆ Article                         ┆ Date      ┆ Heading                         ┆ NewsType │\n",
       "│ ---   ┆ ---                             ┆ ---       ┆ ---                             ┆ ---      │\n",
       "│ u32   ┆ str                             ┆ str       ┆ str                             ┆ str      │\n",
       "╞═══════╪═════════════════════════════════╪═══════════╪═════════════════════════════════╪══════════╡\n",
       "│ 1     ┆ KARACHI: The Sindh government … ┆ 1/1/2015  ┆ sindh govt decides to cut publ… ┆ business │\n",
       "│ 2     ┆ HONG KONG: Asian markets start… ┆ 1/2/2015  ┆ asia stocks up in new year tra… ┆ business │\n",
       "│ 3     ┆ HONG KONG:  Hong Kong shares o… ┆ 1/5/2015  ┆ hong kong stocks open 0.66 per… ┆ business │\n",
       "│ 4     ┆ HONG KONG: Asian markets tumbl… ┆ 1/6/2015  ┆ asian stocks sink euro near ni… ┆ business │\n",
       "│ 5     ┆ NEW YORK: US oil prices Monday… ┆ 1/6/2015  ┆ us oil prices slip below 50 a … ┆ business │\n",
       "│ …     ┆ …                               ┆ …         ┆ …                               ┆ …        │\n",
       "│ 46    ┆ Karachi: Microsoft Devices Pak… ┆ 2/12/2015 ┆ nokia 215 dual sim launched in… ┆ business │\n",
       "│ 47    ┆ ISLAMABAD: Federal Finance Min… ┆ 2/12/2015 ┆ cnic number now tax number onl… ┆ business │\n",
       "│ 48    ┆ ISLAMABAD: Government has put … ┆ 2/12/2015 ┆ govt imposes new taxes of rs4 … ┆ business │\n",
       "│ 49    ┆ Singapore: Oil prices edged hi… ┆ 2/12/2015 ┆ oil prices rise in asian trad   ┆ business │\n",
       "│ 50    ┆ London: World oil prices rose … ┆ 2/13/2015 ┆ oil prices extend gai           ┆ business │\n",
       "└───────┴─────────────────────────────────┴───────────┴─────────────────────────────────┴──────────┘"
      ]
     },
     "execution_count": 29,
     "metadata": {},
     "output_type": "execute_result"
    }
   ],
   "source": [
    "articles"
   ]
  },
  {
   "cell_type": "code",
   "execution_count": 30,
   "metadata": {},
   "outputs": [],
   "source": [
    "article_list = articles['Article'][1:].to_list()\n",
    "vector =  google_ef(article_list)"
   ]
  },
  {
   "cell_type": "code",
   "execution_count": 31,
   "metadata": {},
   "outputs": [
    {
     "data": {
      "text/plain": [
       "49"
      ]
     },
     "execution_count": 31,
     "metadata": {},
     "output_type": "execute_result"
    }
   ],
   "source": [
    "len(vector)"
   ]
  },
  {
   "cell_type": "code",
   "execution_count": 33,
   "metadata": {},
   "outputs": [
    {
     "data": {
      "text/plain": [
       "['id2',\n",
       " 'id3',\n",
       " 'id4',\n",
       " 'id5',\n",
       " 'id6',\n",
       " 'id7',\n",
       " 'id8',\n",
       " 'id9',\n",
       " 'id10',\n",
       " 'id11',\n",
       " 'id12',\n",
       " 'id13',\n",
       " 'id14',\n",
       " 'id15',\n",
       " 'id16',\n",
       " 'id17',\n",
       " 'id18',\n",
       " 'id19',\n",
       " 'id20',\n",
       " 'id21',\n",
       " 'id22',\n",
       " 'id23',\n",
       " 'id24',\n",
       " 'id25',\n",
       " 'id26',\n",
       " 'id27',\n",
       " 'id28',\n",
       " 'id29',\n",
       " 'id30',\n",
       " 'id31',\n",
       " 'id32',\n",
       " 'id33',\n",
       " 'id34',\n",
       " 'id35',\n",
       " 'id36',\n",
       " 'id37',\n",
       " 'id38',\n",
       " 'id39',\n",
       " 'id40',\n",
       " 'id41',\n",
       " 'id42',\n",
       " 'id43',\n",
       " 'id44',\n",
       " 'id45',\n",
       " 'id46',\n",
       " 'id47',\n",
       " 'id48',\n",
       " 'id49',\n",
       " 'id50']"
      ]
     },
     "execution_count": 33,
     "metadata": {},
     "output_type": "execute_result"
    }
   ],
   "source": [
    "ids = [f'id{x}' for x in articles['index'][1:].to_list()]\n",
    "ids"
   ]
  },
  {
   "cell_type": "code",
   "execution_count": 34,
   "metadata": {},
   "outputs": [],
   "source": [
    "collection.add(\n",
    "    documents=article_list,\n",
    "    ids=ids,\n",
    "    embeddings=vector\n",
    ")"
   ]
  },
  {
   "cell_type": "code",
   "execution_count": 35,
   "metadata": {},
   "outputs": [
    {
     "data": {
      "text/plain": [
       "50"
      ]
     },
     "execution_count": 35,
     "metadata": {},
     "output_type": "execute_result"
    }
   ],
   "source": [
    "collection.count()"
   ]
  },
  {
   "cell_type": "code",
   "execution_count": 36,
   "metadata": {},
   "outputs": [
    {
     "data": {
      "text/plain": [
       "{'ids': [['id1', 'id39', 'id24']],\n",
       " 'embeddings': None,\n",
       " 'documents': [['KARACHI: The Sindh government has decided to bring down public transport fares by 7 per cent due to massive reduction in petroleum product prices by the federal government, Geo News reported.Sources said reduction in fares will be applicable on public transport, rickshaw, taxi and other means of traveling.Meanwhile, Karachi Transport Ittehad (KTI) has refused to abide by the government decision.KTI President Irshad Bukhari said the commuters are charged the lowest fares in Karachi as compare to other parts of the country, adding that 80pc vehicles run on Compressed Natural Gas (CNG). Bukhari said Karachi transporters will cut fares when decrease in CNG prices will be made.                        \\n\\n\\n\\n\\n\\n\\n\\n\\n\\n\\n',\n",
       "   'ISLAMABAD: The consistent fall in the price of petrol saw a record sale in the month of January, with a 32 percent increase as compared to January 2014.Consumers across the country bought 0.39 million tonnes of petrol in January this year.According to industry sources, the price difference between petrol and compressed natural gas (CNG) dropped from 56 percent in January 2014 to 31 percent in January 2015.Global crude oil prices have fallen by 50 percent since June 2014, and to provide consistent relief to consumers, the Pakistan government has decreased the price of petrol by Rs 29 since the last four months and brought the price of Diesel down by Rs 23 in the same time frame. \\n\\n\\n\\n\\n\\n\\n\\n\\n\\n\\n',\n",
       "   'ISLAMABAD: In a move to give relief to consumers, sources in the Finance Ministry said on Tuesday that the price of petrol and petroleum products are expected to decrease further from February 1.According to sources, the price of petrol is expected to be slashed by Rs 10 per litre, High Speed Diesel by Rs 8.50 per litre, Light Diesel by Rs 11 per litre, HOBC by Rs 14 per litre, and Kerosene by Rs 12 per litre.Global crude oil prices have fallen by 50 percent since June 2014, and to provide consistent relief to consumers, the Pakistan government has decreased the price of petrol by Rs 29 since the last four months and brought the price of Diesel down by Rs 23 in the same time frame.Fuel crisis in the country began last week when Pakistan State Oil (PSO) was forced to slash imports because banks refused to extend any more credit to the government-owned company, which supplies 80 percent of the country´s oil.The shortfall led to long queues of angry motorists at petrol stations, though these have since dissipated as fuel supplies have reached the pumps. \\n\\n\\n\\n\\n\\n\\n\\n\\n\\n\\n']],\n",
       " 'uris': None,\n",
       " 'data': None,\n",
       " 'metadatas': [[None, None, None]],\n",
       " 'distances': [[0.39042821526527405, 0.5798001289367676, 0.5913660526275635]],\n",
       " 'included': [<IncludeEnum.distances: 'distances'>,\n",
       "  <IncludeEnum.documents: 'documents'>,\n",
       "  <IncludeEnum.metadatas: 'metadatas'>]}"
      ]
     },
     "execution_count": 36,
     "metadata": {},
     "output_type": "execute_result"
    }
   ],
   "source": [
    "query = 'public transport fares by 7 per cent'\n",
    "query_embedding = google_ef([query])\n",
    "\n",
    "collection.query(\n",
    "    query_embeddings=query_embedding,\n",
    "    n_results=3\n",
    ")"
   ]
  }
 ],
 "metadata": {
  "kernelspec": {
   "display_name": "Python 3",
   "language": "python",
   "name": "python3"
  },
  "language_info": {
   "codemirror_mode": {
    "name": "ipython",
    "version": 3
   },
   "file_extension": ".py",
   "mimetype": "text/x-python",
   "name": "python",
   "nbconvert_exporter": "python",
   "pygments_lexer": "ipython3",
   "version": "3.12.0"
  }
 },
 "nbformat": 4,
 "nbformat_minor": 2
}
